{
 "cells": [
  {
   "cell_type": "markdown",
   "metadata": {},
   "source": [
    "# Using Hypothesis Testing to Understand Drivers of Sales\n",
    "\n",
    "You have been contracted by an e-commerce marketplace to help them understand what factors drive sales. They've collected data on 500 purchases made recently, including how much time was spent on the page, how many reviews the product had, and the product rating. They would like to understand what factors in their data are driving sales. \n",
    "\n",
    "### The data\n",
    "\n",
    "The company has collected data on 500 purchases. They know:\n",
    "* The ammount of time in seconds an individual user spent on that page\n",
    "* The number of product reviews\n",
    "* The product rating\n",
    "* Whether the user purchased the product or not.\n",
    "\n",
    "### Your task\n",
    "\n",
    "Use hypothesis testing to test whether the mean time spent on the page, the mean number of reviews, and the mean product rating are different in populations that purchased and didn't purchase. \n",
    "\n",
    "Exploratory Data Analysis:\n",
    "* Plot a histogram for purchases and non-purchases for that column. \n",
    "  * *Extra:* use `plt.axvline` to indicate the means on the histograms\n",
    "  * *Extra:* Do it for all the columns at once with subplots, including labeled histograms and means.\n",
    "* Are your purchasers and non-purchaseres relatively evenly balanced?\n",
    "  * **HINT:** `dataframe[column].value_counts()`\n",
    "\n",
    "For each test,\n",
    "* State your null and alternative hypothesis (in markdown!)\n",
    "* Use masking in `pandas` to separate your populations.\n",
    "* Conduct a t-test to test your null hyopthesis. \n",
    "* Interpret your p-value.\n",
    "* Describe your findings about the column (in markdown!)\n",
    "\n",
    "\n",
    "The goal of your work is to make a recommendation for how to identify products that will sell better. **To conclude, provide a recommendation for identifying products that will perform well and products that will perform poorly in the marketplace.**"
   ]
  },
  {
   "cell_type": "code",
   "execution_count": null,
   "metadata": {
    "collapsed": true
   },
   "outputs": [],
   "source": [
    "import pandas as pd\n",
    "import numpy as np\n",
    "from scipy import stats\n",
    "import matplotlib.pyplot as plt\n",
    "%matplotlib inline\n",
    "plt.style.use('fivethirtyeight')"
   ]
  },
  {
   "cell_type": "markdown",
   "metadata": {},
   "source": [
    "Load in the CSV using `pd.read_csv`"
   ]
  },
  {
   "cell_type": "code",
   "execution_count": null,
   "metadata": {
    "collapsed": true
   },
   "outputs": [],
   "source": [
    "# Enter the name of the csv\n",
    "results_df = pd.read_csv()"
   ]
  },
  {
   "cell_type": "markdown",
   "metadata": {},
   "source": [
    "Display the head to check the data."
   ]
  },
  {
   "cell_type": "code",
   "execution_count": null,
   "metadata": {},
   "outputs": [],
   "source": [
    "# Your code here"
   ]
  },
  {
   "cell_type": "markdown",
   "metadata": {},
   "source": [
    "Separate the data into two DataFrames: one for those who purchased, and one for those who didn't."
   ]
  },
  {
   "cell_type": "code",
   "execution_count": null,
   "metadata": {
    "collapsed": true
   },
   "outputs": [],
   "source": [
    "# Create a boolean mask on your results_df['purchase] column that's True if the customer bought and False if they didn't.\n",
    "purchase_mask = None"
   ]
  },
  {
   "cell_type": "code",
   "execution_count": null,
   "metadata": {
    "collapsed": true
   },
   "outputs": [],
   "source": [
    "# Create a boolean mask on your results_df['purchase] column that's False if the customer bought and True if they didn't.\n",
    "no_purchase_mask = None"
   ]
  },
  {
   "cell_type": "code",
   "execution_count": null,
   "metadata": {
    "collapsed": true
   },
   "outputs": [],
   "source": [
    "# Use the masks to create your new DataFrames\n",
    "purchase_df = results_df[purchase_mask]\n",
    "no_purchase_df = results_df[no_purchase_mask]"
   ]
  },
  {
   "cell_type": "markdown",
   "metadata": {},
   "source": [
    "Plot the distributions of each numerical column. "
   ]
  },
  {
   "cell_type": "code",
   "execution_count": null,
   "metadata": {},
   "outputs": [],
   "source": [
    "fig = plt.figure(figsize=(12,15))\n",
    "for i, col in enumerate(results_df.columns[:3]):\n",
    "    fig.add_subplot(3,1,1+i)\n",
    "#     Add a histogram for the column in the loop from the purchase dataframe.\n",
    "    \n",
    "#     Add a histogram for the column in the loop from the no purchase dataframe.\n",
    "    \n",
    "    plt.ylabel('count')\n",
    "    plt.xlabel(col)"
   ]
  },
  {
   "cell_type": "markdown",
   "metadata": {},
   "source": [
    "Observations:\n",
    "* the means of the time spent on each page appear the same for purchases and no-purchases.\n",
    "* For number of reviews and product rating, the purchase mean seems higher than the no-purchase mean."
   ]
  },
  {
   "cell_type": "markdown",
   "metadata": {},
   "source": [
    "How many purchases? How many non-purchases?"
   ]
  },
  {
   "cell_type": "code",
   "execution_count": null,
   "metadata": {
    "scrolled": true
   },
   "outputs": [],
   "source": [
    "# Your code here"
   ]
  },
  {
   "cell_type": "markdown",
   "metadata": {},
   "source": [
    "## Hypothesis Testing"
   ]
  },
  {
   "cell_type": "markdown",
   "metadata": {},
   "source": [
    "### `time_on_page_sec`"
   ]
  },
  {
   "cell_type": "markdown",
   "metadata": {},
   "source": [
    "What's your null hypothesis?\n",
    "\n",
    "**(Enter text here)**"
   ]
  },
  {
   "cell_type": "markdown",
   "metadata": {},
   "source": [
    "What's your alternative hypothesis?\n",
    "\n",
    "**(Enter text here)**"
   ]
  },
  {
   "cell_type": "code",
   "execution_count": null,
   "metadata": {
    "collapsed": true
   },
   "outputs": [],
   "source": [
    "# Complete the code to obtain your pvalue.\n",
    "pvalue = stats.ttest_ind().pvalue\n",
    "pvalue"
   ]
  },
  {
   "cell_type": "markdown",
   "metadata": {},
   "source": [
    "What's the interpretation of your pvalue?\n",
    "\n",
    "**(Enter text here)**"
   ]
  },
  {
   "cell_type": "markdown",
   "metadata": {},
   "source": [
    "### `num_product_reviews`"
   ]
  },
  {
   "cell_type": "markdown",
   "metadata": {},
   "source": [
    "What's your null hypothesis?\n",
    "\n",
    "**(Enter text here)**"
   ]
  },
  {
   "cell_type": "markdown",
   "metadata": {},
   "source": [
    "What's your alternative hypothesis?\n",
    "\n",
    "**(Enter text here)**"
   ]
  },
  {
   "cell_type": "code",
   "execution_count": null,
   "metadata": {
    "collapsed": true
   },
   "outputs": [],
   "source": [
    "# Complete the code to obtain your pvalue.\n",
    "pvalue = stats.ttest_ind().pvalue\n",
    "pvalue"
   ]
  },
  {
   "cell_type": "markdown",
   "metadata": {},
   "source": [
    "What's the interpretation of your pvalue?\n",
    "\n",
    "**(Enter text here)**"
   ]
  },
  {
   "cell_type": "markdown",
   "metadata": {},
   "source": [
    "### `product_rating`"
   ]
  },
  {
   "cell_type": "markdown",
   "metadata": {},
   "source": [
    "What's your null hypothesis?\n",
    "\n",
    "**(Enter text here)**"
   ]
  },
  {
   "cell_type": "markdown",
   "metadata": {},
   "source": [
    "What's your alternative hypothesis?\n",
    "\n",
    "**(Enter text here)**"
   ]
  },
  {
   "cell_type": "code",
   "execution_count": null,
   "metadata": {
    "collapsed": true
   },
   "outputs": [],
   "source": [
    "# Complete the code to obtain your pvalue.\n",
    "pvalue = stats.ttest_ind().pvalue\n",
    "pvalue"
   ]
  },
  {
   "cell_type": "markdown",
   "metadata": {},
   "source": [
    "What's the interpretation of your pvalue?\n",
    "\n",
    "**(Enter text here)**"
   ]
  },
  {
   "cell_type": "markdown",
   "metadata": {},
   "source": [
    "### Conclusion\n",
    "---\n",
    "\n",
    "**(Enter text here)**"
   ]
  },
  {
   "cell_type": "markdown",
   "metadata": {},
   "source": [
    "\n",
    "# Part 2: A/B Testing Using the chi-square test (optional)\n",
    "\n",
    "This part will involve some independent learning. However, resources are provided here in the notebook and linked materials. The goal is to apply what you've learned about hypothesis testing and p-values with a new test and a few new techniques.\n",
    "\n",
    "So far we've been working with the t-test, which tests differences in means. Another common hypothesis test is the chi-square test (Greek: $\\chi$), which tests whether two proportions are different. We're going to use this to do some A/B testing with the chi-square test. \n",
    "\n",
    "The buy button on the e-commerce marketplace's product pages is red. However, they want to see if a yellow button will do better. You've designed an experiment to test this!\n",
    "\n",
    "Here's the setup of the A/B test:\n",
    "\n",
    "* Control Group: Red Button\n",
    "* Experimental Group: Yellow Button\n",
    "\n",
    "We will conduct this experiment with 1000 users. Each user will be randomly assigned to a group (experimental or control). After, we will use a chi-square test to obtain a p-value.\n",
    "\n",
    "#### Chi-square Test\n",
    "\n",
    "A chi-square test tests the null hypothesis that our observed proportions are the same between our groups. In our case, we only have one proportion- the proportion of purchases. So, in our case, \n",
    "\n",
    "> $H_0$: The observed proportion of purchases is the same between control and experimental groups.\n",
    "\n",
    "So, our alternative hypothesis is that:\n",
    "\n",
    "> $H_1$: The observed proportion of purchases is not the same between control and experimental groups.\n",
    "\n",
    "1. Run the `generate_test_data` function and store the results in a variable, such as `abdata`. \n",
    "2. Use `pd.crosstab` of your `group` and `purchase` columns. This returns the observed frequencies of purchases for your control and experimental groups (this is called a contingency table).\n",
    "3. Use `scipy.stats.chi2_contingency()`. You may pass your crosstab as an argument to this function. It returns four items: The chi-square statistic, the p-value, the degrees of freedom, and the expected frequencies based on the observations in the table.\n",
    "4. Interpret the p-value. Is there enough 'evidence' to reject our null hypothesis? \n",
    "\n",
    "Based on your observations and p-value, what would be the recommendation? Would you recommend sticking with the red button or moving to the yellow button?"
   ]
  },
  {
   "cell_type": "code",
   "execution_count": null,
   "metadata": {
    "collapsed": true
   },
   "outputs": [],
   "source": [
    "def generate_test_data(n_users = 1000, seed = 42):\n",
    "    '''\n",
    "    Randomly generates test groups. \n",
    "    Returns a DataFrame where the first column is the group, and the second column is wheter the customer purchased.\n",
    "    '''\n",
    "    np.random.seed(seed)\n",
    "    data = []\n",
    "    for user in range(n_users):\n",
    "        if np.random.random(1) > .5:\n",
    "            if np.random.random(1) < .3:\n",
    "                data.append(('control','yes'))\n",
    "            else:\n",
    "                data.append(('control','no'))\n",
    "        else:\n",
    "            if np.random.random(1) < .35:\n",
    "                data.append(('experimental','yes'))\n",
    "            else:\n",
    "                data.append(('experimental','no'))\n",
    "    return pd.DataFrame(data, columns = ['group','purchase'])"
   ]
  },
  {
   "cell_type": "code",
   "execution_count": null,
   "metadata": {
    "collapsed": true
   },
   "outputs": [],
   "source": [
    "abdata = generate_test_groups()"
   ]
  },
  {
   "cell_type": "code",
   "execution_count": null,
   "metadata": {},
   "outputs": [],
   "source": [
    "abdata.head()"
   ]
  },
  {
   "cell_type": "code",
   "execution_count": null,
   "metadata": {},
   "outputs": [],
   "source": [
    "# Complete the crosstab to generate the contingency table. It should take two arguments, each should be a column.\n",
    "\n",
    "contingency_table = pd.crosstab()\n",
    "contingency_table"
   ]
  },
  {
   "cell_type": "code",
   "execution_count": null,
   "metadata": {
    "collapsed": true
   },
   "outputs": [],
   "source": [
    "chistat, chipval, dof, exp_p = stats.chi2_contingency(contingency_table)"
   ]
  },
  {
   "cell_type": "code",
   "execution_count": null,
   "metadata": {},
   "outputs": [],
   "source": [
    "chipval"
   ]
  },
  {
   "cell_type": "markdown",
   "metadata": {},
   "source": [
    "**(Interpret your p-value and make a recommendation on which button to move forward with)**"
   ]
  }
 ],
 "metadata": {
  "kernelspec": {
   "display_name": "Python 3",
   "language": "python",
   "name": "python3"
  },
  "language_info": {
   "codemirror_mode": {
    "name": "ipython",
    "version": 3
   },
   "file_extension": ".py",
   "mimetype": "text/x-python",
   "name": "python",
   "nbconvert_exporter": "python",
   "pygments_lexer": "ipython3",
   "version": "3.6.2"
  }
 },
 "nbformat": 4,
 "nbformat_minor": 2
}
